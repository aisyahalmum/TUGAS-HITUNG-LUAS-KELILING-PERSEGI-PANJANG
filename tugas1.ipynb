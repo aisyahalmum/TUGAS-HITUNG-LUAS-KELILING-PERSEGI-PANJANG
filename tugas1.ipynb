{
  "nbformat": 4,
  "nbformat_minor": 0,
  "metadata": {
    "colab": {
      "provenance": [],
      "authorship_tag": "ABX9TyOqCF/HIGSHBx85jQ+AHEu9"
    },
    "kernelspec": {
      "name": "python3",
      "display_name": "Python 3"
    },
    "language_info": {
      "name": "python"
    }
  },
  "cells": [
    {
      "cell_type": "code",
      "source": [
        "# Program penjumlahan dua bilangan\n",
        "\n",
        "# Meminta input dari pengguna\n",
        "bil1 = float(input(\"Masukkan bilangan pertama: \"))\n",
        "bil2 = float(input(\"Masukkan bilangan kedua: \"))\n",
        "\n",
        "# Menjumlahkan kedua bilangan\n",
        "hasil = bil1 + bil2\n",
        "\n",
        "# Menampilkan hasil\n",
        "print(\"Hasil penjumlahan:\", hasil)\n"
      ],
      "metadata": {
        "colab": {
          "base_uri": "https://localhost:8080/"
        },
        "id": "_jTstJvjGG0E",
        "outputId": "b1b6d638-832f-4cc3-b524-9d9b56e65c1c"
      },
      "execution_count": null,
      "outputs": [
        {
          "output_type": "stream",
          "name": "stdout",
          "text": [
            "Masukkan bilangan pertama: 10\n",
            "Masukkan bilangan kedua: 20\n",
            "Hasil penjumlahan: 30.0\n"
          ]
        }
      ]
    },
    {
      "cell_type": "code",
      "source": [
        "# Program Menghitung Luas dan Keliling Persegi Panjang\n",
        "\n",
        "# Meminta input dari pengguna\n",
        "panjang = float(input(\"Masukkan panjang persegi panjang: \"))\n",
        "lebar = float(input(\"Masukkan lebar persegi panjang: \"))\n",
        "\n",
        "# Menghitung luas dan keliling\n",
        "luas = panjang * lebar\n",
        "keliling = 2 * (panjang + lebar)\n",
        "\n",
        "# Menampilkan hasil\n",
        "print(\"\\n=== Hasil Perhitungan ===\")\n",
        "print(f\"Luas Persegi Panjang     : {luas}\")\n",
        "print(f\"Keliling Persegi Panjang : {keliling}\")\n"
      ],
      "metadata": {
        "colab": {
          "base_uri": "https://localhost:8080/"
        },
        "id": "llhyHUOuGKET",
        "outputId": "ba1bc7c0-7da8-4fa4-dc09-7e3b6ff3760b"
      },
      "execution_count": null,
      "outputs": [
        {
          "output_type": "stream",
          "name": "stdout",
          "text": [
            "Masukkan panjang persegi panjang: 30\n",
            "Masukkan lebar persegi panjang: 50\n",
            "\n",
            "=== Hasil Perhitungan ===\n",
            "Luas Persegi Panjang     : 1500.0\n",
            "Keliling Persegi Panjang : 160.0\n"
          ]
        }
      ]
    },
    {
      "cell_type": "code",
      "source": [
        "# Meminta input dari pengguna\n",
        "nama = input(\"Masukkan nama Anda: \")\n",
        "umur = int(input(\"Masukkan umur Anda: \"))\n",
        "\n",
        "# Mengecek apakah umur >= 18\n",
        "if umur >= 18:\n",
        "    print(f\"Halo {nama}, Anda sudah cukup umur.\")\n",
        "else:\n",
        "    print(f\"Halo {nama}, Anda belum cukup umur.\")"
      ],
      "metadata": {
        "colab": {
          "base_uri": "https://localhost:8080/"
        },
        "id": "2X17ndYDGXLE",
        "outputId": "578f29b8-8808-4676-b9e9-697b5dc61567"
      },
      "execution_count": null,
      "outputs": [
        {
          "output_type": "stream",
          "name": "stdout",
          "text": [
            "Masukkan nama Anda: mardi\n",
            "Masukkan umur Anda: 2\n",
            "Halo mardi, Anda belum cukup umur.\n"
          ]
        }
      ]
    }
  ]
}